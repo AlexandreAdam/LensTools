{
 "cells": [
  {
   "cell_type": "code",
   "execution_count": 1,
   "metadata": {
    "collapsed": false,
    "jupyter": {
     "outputs_hidden": false
    }
   },
   "outputs": [
    {
     "name": "stderr",
     "output_type": "stream",
     "text": [
      "/home/alexandre/Desktop/Projects/LensTools/lenstools/utils/mpi.py:15: UserWarning: Could not import mpi4py! (if you set sys.modules['mpi4py']=None please disregard this message)\n",
      "  warnings.warn(wmsg)\n"
     ]
    }
   ],
   "source": [
    "import sys\n",
    "sys.modules[\"mpi4py\"] = None\n",
    "\n",
    "import numpy as np\n",
    "import astropy.units as u\n",
    "from astropy.cosmology import z_at_value\n",
    "\n",
    "import lenstools\n",
    "from lenstools.pipeline.simulation import SimulationBatch,LensToolsCosmology\n",
    "from lenstools.pipeline.settings import EnvironmentSettings,NGenICSettings,PlaneSettings,MapSettings\n",
    "from lenstools.simulations.camb import CAMBSettings\n",
    "from lenstools.simulations.gadget2 import Gadget2Settings"
   ]
  },
  {
   "cell_type": "markdown",
   "metadata": {},
   "source": [
    "<h3>Interchangeable settings for simulation batch</h3>"
   ]
  },
  {
   "cell_type": "code",
   "execution_count": 2,
   "metadata": {
    "collapsed": false,
    "jupyter": {
     "outputs_hidden": false
    }
   },
   "outputs": [],
   "source": [
    "#Geometrical parameters\n",
    "zmax = 3.1\n",
    "box_size_Mpc_over_h = 240.0\n",
    "nside = 512\n",
    "lens_thickness_Mpc = 120.0\n",
    "\n",
    "#Code settings: interchangeable\n",
    "camb = CAMBSettings()\n",
    "ngenic = NGenICSettings()\n",
    "ngenic.GlassFile = lenstools.data(\"dummy_glass_little_endian.dat\")\n",
    "gadget2 = Gadget2Settings()\n",
    "\n",
    "#Code settings: lenstools multi-lens-plane algorithm\n",
    "planes = PlaneSettings.read(\"maps.ini\")\n",
    "maps = MapSettings.read(\"maps.ini\")"
   ]
  },
  {
   "cell_type": "markdown",
   "metadata": {},
   "source": [
    "<h3>Cosmological models ($\\Omega_m,w,\\sigma_8$)</h3>"
   ]
  },
  {
   "cell_type": "code",
   "execution_count": 3,
   "metadata": {},
   "outputs": [],
   "source": [
    "models = np.array([[0.26,-1,0.8],[0.29,-1,0.8]])"
   ]
  },
  {
   "cell_type": "markdown",
   "metadata": {},
   "source": [
    "<h3>Lay down directory tree</h3>"
   ]
  },
  {
   "cell_type": "code",
   "execution_count": 4,
   "metadata": {
    "collapsed": false,
    "jupyter": {
     "outputs_hidden": false
    }
   },
   "outputs": [
    {
     "name": "stdout",
     "output_type": "stream",
     "text": [
      "[-] Model Om0.260_Ol0.740_w1.000_si0.800 already exists!\n",
      "[-] Model Om0.260_Ol0.740_w1.000_si0.800 already exists!\n",
      "[-] Collection Om0.260_Ol0.740_w1.000_si0.800/512b240 already exists!\n",
      "[+] /home/alexandre/Desktop/Projects/LensTools/notebooks/SimTest/Home/Om0.260_Ol0.740_w1.000_si0.800/512b240/ic4 created on localhost\n",
      "[+] /home/alexandre/Desktop/Projects/LensTools/notebooks/SimTest/Storage/Om0.260_Ol0.740_w1.000_si0.800/512b240/ic4 created on localhost\n",
      "[+] /home/alexandre/Desktop/Projects/LensTools/notebooks/SimTest/Storage/Om0.260_Ol0.740_w1.000_si0.800/512b240/ic4/ics created on localhost\n",
      "[+] /home/alexandre/Desktop/Projects/LensTools/notebooks/SimTest/Storage/Om0.260_Ol0.740_w1.000_si0.800/512b240/ic4/snapshots created on localhost\n",
      "[+] /home/alexandre/Desktop/Projects/LensTools/notebooks/SimTest/Home/Om0.260_Ol0.740_w1.000_si0.800/512b240/ic4/Planes created on localhost\n",
      "[+] /home/alexandre/Desktop/Projects/LensTools/notebooks/SimTest/Storage/Om0.260_Ol0.740_w1.000_si0.800/512b240/ic4/Planes created on localhost\n",
      "[-] Model Om0.290_Ol0.710_w1.000_si0.800 already exists!\n",
      "[-] Model Om0.290_Ol0.710_w1.000_si0.800 already exists!\n",
      "[-] Collection Om0.290_Ol0.710_w1.000_si0.800/512b240 already exists!\n",
      "[+] /home/alexandre/Desktop/Projects/LensTools/notebooks/SimTest/Home/Om0.290_Ol0.710_w1.000_si0.800/512b240/ic4 created on localhost\n",
      "[+] /home/alexandre/Desktop/Projects/LensTools/notebooks/SimTest/Storage/Om0.290_Ol0.710_w1.000_si0.800/512b240/ic4 created on localhost\n",
      "[+] /home/alexandre/Desktop/Projects/LensTools/notebooks/SimTest/Storage/Om0.290_Ol0.710_w1.000_si0.800/512b240/ic4/ics created on localhost\n",
      "[+] /home/alexandre/Desktop/Projects/LensTools/notebooks/SimTest/Storage/Om0.290_Ol0.710_w1.000_si0.800/512b240/ic4/snapshots created on localhost\n",
      "[+] /home/alexandre/Desktop/Projects/LensTools/notebooks/SimTest/Home/Om0.290_Ol0.710_w1.000_si0.800/512b240/ic4/Planes created on localhost\n",
      "[+] /home/alexandre/Desktop/Projects/LensTools/notebooks/SimTest/Storage/Om0.290_Ol0.710_w1.000_si0.800/512b240/ic4/Planes created on localhost\n",
      "[+] /home/alexandre/Desktop/Projects/LensTools/notebooks/SimTest/Home/Om0.290_Ol0.710_w1.000_si0.800/512b240/camb.param written on localhost\n",
      "[+] /home/alexandre/Desktop/Projects/LensTools/notebooks/SimTest/Home/Om0.260_Ol0.740_w1.000_si0.800/512b240/camb.param written on localhost\n"
     ]
    }
   ],
   "source": [
    "batch = SimulationBatch.current(\"environment.ini\")\n",
    "\n",
    "#Cycle over parameters and create one model per parameter\n",
    "for Om,w,si8 in models:\n",
    "    \n",
    "    #Lay down directory tree\n",
    "\tcosmo = LensToolsCosmology(Om0=Om,Ode0=1-Om,w0=1,sigma8=si8)\n",
    "\tmodel = batch.newModel(cosmo,parameters=[\"Om\",\"Ol\",\"w\",\"si\"])\n",
    "\tcollection = model.newCollection(box_size=box_size_Mpc_over_h*model.Mpc_over_h,nside=nside)\n",
    "\tr = collection.newRealization(seed=111)\n",
    "\n",
    "\t#Plane and catalog directories\n",
    "\tpln = r.newPlaneSet(planes)\n",
    "\tmp = collection.newMapSet(maps)\n",
    "\n",
    "#CAMB settings\n",
    "for model in batch.models:\n",
    "\tcollection = model.collections[0]\n",
    "\tcollection.writeCAMB(z=np.array([0.0]),settings=camb)\n",
    "\n",
    "#Compute comoving distance to maximum redshift for each model\n",
    "d = list()\n",
    "for model in batch.available:\n",
    "\td.append(model.cosmology.comoving_distance(zmax))\n",
    "\n",
    "#Compute lens spacings\n",
    "d = np.array([dv.value for dv in d]) * d[0].unit\n",
    "\n",
    "#We want to make sure there are lenses up to the maximum of these distances\n",
    "lens_distances = np.arange(lens_thickness_Mpc,d.max().to(u.Mpc).value + lens_thickness_Mpc,lens_thickness_Mpc) * u.Mpc"
   ]
  },
  {
   "cell_type": "code",
   "execution_count": 6,
   "metadata": {},
   "outputs": [
    {
     "data": {
      "text/latex": [
       "$[2153.2537,~2129.4517] \\; \\mathrm{Mpc}$"
      ],
      "text/plain": [
       "<Quantity [2153.25365542, 2129.45166957] Mpc>"
      ]
     },
     "execution_count": 6,
     "metadata": {},
     "output_type": "execute_result"
    }
   ],
   "source": [
    "d"
   ]
  },
  {
   "cell_type": "markdown",
   "metadata": {},
   "source": [
    "<h3>Write the NGen-IC and Gadget2 parameter files</h3>"
   ]
  },
  {
   "cell_type": "code",
   "execution_count": 5,
   "metadata": {
    "collapsed": false,
    "jupyter": {
     "outputs_hidden": false
    }
   },
   "outputs": [
    {
     "name": "stdout",
     "output_type": "stream",
     "text": [
      "[+] Solving the linear growth ODE for Om0.290_Ol0.710_w1.000_si0.800...\n",
      "[+] Computing prefactors...\n"
     ]
    },
    {
     "ename": "OSError",
     "evalue": "NGen-IC power spectrum file /home/alexandre/Desktop/Projects/LensTools/notebooks/SimTest/Home/Om0.290_Ol0.710_w1.000_si0.800/512b240/ngenic_matterpower_z0.000000.txt does not exist yet!",
     "output_type": "error",
     "traceback": [
      "\u001b[0;31m---------------------------------------------------------------------------\u001b[0m",
      "\u001b[0;31mOSError\u001b[0m                                   Traceback (most recent call last)",
      "\u001b[0;32m<ipython-input-5-a2ab98f1cec8>\u001b[0m in \u001b[0;36m<module>\u001b[0;34m\u001b[0m\n\u001b[1;32m     15\u001b[0m         \u001b[0;31m#Write NGenIC and Gadget2 parameter files\u001b[0m\u001b[0;34m\u001b[0m\u001b[0;34m\u001b[0m\u001b[0;34m\u001b[0m\u001b[0m\n\u001b[1;32m     16\u001b[0m         \u001b[0mr\u001b[0m \u001b[0;34m=\u001b[0m \u001b[0mcollection\u001b[0m\u001b[0;34m.\u001b[0m\u001b[0mrealizations\u001b[0m\u001b[0;34m[\u001b[0m\u001b[0;36m0\u001b[0m\u001b[0;34m]\u001b[0m\u001b[0;34m\u001b[0m\u001b[0;34m\u001b[0m\u001b[0m\n\u001b[0;32m---> 17\u001b[0;31m         \u001b[0mr\u001b[0m\u001b[0;34m.\u001b[0m\u001b[0mwriteNGenIC\u001b[0m\u001b[0;34m(\u001b[0m\u001b[0mngenic\u001b[0m\u001b[0;34m)\u001b[0m\u001b[0;34m\u001b[0m\u001b[0;34m\u001b[0m\u001b[0m\n\u001b[0m\u001b[1;32m     18\u001b[0m         \u001b[0mr\u001b[0m\u001b[0;34m.\u001b[0m\u001b[0mwriteGadget2\u001b[0m\u001b[0;34m(\u001b[0m\u001b[0mgadget2\u001b[0m\u001b[0;34m)\u001b[0m\u001b[0;34m\u001b[0m\u001b[0;34m\u001b[0m\u001b[0m\n",
      "\u001b[0;32m~/Desktop/Projects/LensTools/lenstools/pipeline/simulation.py\u001b[0m in \u001b[0;36mwriteNGenIC\u001b[0;34m(self, settings)\u001b[0m\n\u001b[1;32m   2822\u001b[0m                         \u001b[0;31m#Check if NGen-IC power spectrum file exists, if not throw exception\u001b[0m\u001b[0;34m\u001b[0m\u001b[0;34m\u001b[0m\u001b[0;34m\u001b[0m\u001b[0m\n\u001b[1;32m   2823\u001b[0m                         \u001b[0;32mif\u001b[0m \u001b[0;32mnot\u001b[0m\u001b[0;34m(\u001b[0m\u001b[0mself\u001b[0m\u001b[0;34m.\u001b[0m\u001b[0msyshandler\u001b[0m\u001b[0;34m.\u001b[0m\u001b[0mexists\u001b[0m\u001b[0;34m(\u001b[0m\u001b[0mngenic_ps_file\u001b[0m\u001b[0;34m)\u001b[0m\u001b[0;34m)\u001b[0m \u001b[0;32mand\u001b[0m \u001b[0msettings\u001b[0m\u001b[0;34m.\u001b[0m\u001b[0mWhichSpectrum\u001b[0m\u001b[0;34m==\u001b[0m\u001b[0;36m2\u001b[0m\u001b[0;34m:\u001b[0m\u001b[0;34m\u001b[0m\u001b[0;34m\u001b[0m\u001b[0m\n\u001b[0;32m-> 2824\u001b[0;31m                                 \u001b[0;32mraise\u001b[0m \u001b[0mIOError\u001b[0m\u001b[0;34m(\u001b[0m\u001b[0;34m\"NGen-IC power spectrum file {0} does not exist yet!\"\u001b[0m\u001b[0;34m.\u001b[0m\u001b[0mformat\u001b[0m\u001b[0;34m(\u001b[0m\u001b[0mngenic_ps_file\u001b[0m\u001b[0;34m)\u001b[0m\u001b[0;34m)\u001b[0m\u001b[0;34m\u001b[0m\u001b[0;34m\u001b[0m\u001b[0m\n\u001b[0m\u001b[1;32m   2825\u001b[0m \u001b[0;34m\u001b[0m\u001b[0m\n\u001b[1;32m   2826\u001b[0m                         \u001b[0mparamfile\u001b[0m\u001b[0;34m.\u001b[0m\u001b[0mwrite\u001b[0m\u001b[0;34m(\u001b[0m\u001b[0;34m\"FileWithInputSpectrum                  {0}\\n\"\u001b[0m\u001b[0;34m.\u001b[0m\u001b[0mformat\u001b[0m\u001b[0;34m(\u001b[0m\u001b[0mngenic_ps_file\u001b[0m\u001b[0;34m)\u001b[0m\u001b[0;34m)\u001b[0m\u001b[0;34m\u001b[0m\u001b[0;34m\u001b[0m\u001b[0m\n",
      "\u001b[0;31mOSError\u001b[0m: NGen-IC power spectrum file /home/alexandre/Desktop/Projects/LensTools/notebooks/SimTest/Home/Om0.290_Ol0.710_w1.000_si0.800/512b240/ngenic_matterpower_z0.000000.txt does not exist yet!"
     ]
    }
   ],
   "source": [
    "#Compute the lens redshifts in each models and write the N-body simulations parameter files\n",
    "for model in batch.models:\n",
    "\n",
    "\t#Compute the redshifts of the Gadget snapshots\n",
    "\tz = np.zeros_like(lens_distances.value)\n",
    "\tfor n,dlens in enumerate(lens_distances):\n",
    "\t\tz[n] = z_at_value(model.cosmology.comoving_distance,dlens)\n",
    "\n",
    "\t#Assgn values to gadget settings\n",
    "\tgadget2.OutputScaleFactor = np.sort(1/(1+z))\n",
    "\n",
    "\t#Write parameter files\t\t\n",
    "\tcollection = model.collections[0]\n",
    "\n",
    "\t#Write NGenIC and Gadget2 parameter files\n",
    "\tr = collection.realizations[0]\n",
    "\tr.writeNGenIC(ngenic)\n",
    "\tr.writeGadget2(gadget2)"
   ]
  },
  {
   "cell_type": "code",
   "execution_count": null,
   "metadata": {
    "collapsed": true,
    "jupyter": {
     "outputs_hidden": true
    }
   },
   "outputs": [],
   "source": []
  }
 ],
 "metadata": {
  "kernelspec": {
   "display_name": "Python 3",
   "language": "python",
   "name": "python3"
  },
  "language_info": {
   "codemirror_mode": {
    "name": "ipython",
    "version": 3
   },
   "file_extension": ".py",
   "mimetype": "text/x-python",
   "name": "python",
   "nbconvert_exporter": "python",
   "pygments_lexer": "ipython3",
   "version": "3.6.12"
  }
 },
 "nbformat": 4,
 "nbformat_minor": 4
}
